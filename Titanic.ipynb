{
 "cells": [
  {
   "cell_type": "markdown",
   "metadata": {},
   "source": [
    "# Titanic Project"
   ]
  },
  {
   "cell_type": "markdown",
   "metadata": {},
   "source": [
    "The Titanic dataset is the \"Hello world\" of the Machine Learning community. It is perfect for starting off the exploration of classification models and also smaller but necessary requirements like handling missing data and fine-tuning model parameters.\n",
    "\n",
    "## Project Description\n",
    "\n",
    "The sinking of the RMS Titanic is one of the most infamous shipwrecks in history.  On April 15, 1912, during her maiden voyage, the Titanic sank after colliding with an iceberg, killing 1502 out of 2224 passengers and crew. This sensational tragedy shocked the international community and led to better safety regulations for ships.\n",
    "\n",
    "One of the reasons that the shipwreck led to such loss of life was that there were not enough lifeboats for the passengers and crew. Although there was some element of luck involved in surviving the sinking, some groups of people were more likely to survive than others, such as women, children, and the upper-class.\n",
    "\n",
    "In this challenge, we ask you to complete the analysis of what sorts of people were likely to survive. In particular, we ask you to apply the tools of machine learning to predict which passengers survived the tragedy.\n",
    "\n",
    "For a detailed insight of the problem, check out the link : https://www.kaggle.com/c/titanic/"
   ]
  },
  {
   "cell_type": "markdown",
   "metadata": {},
   "source": [
    "## Objective\n",
    "\n",
    "Using the given dataset, we will train a model to find out which **Independent Variables** (IV) or *Parameters* determined the survivability of the passengers.  Such IVs could be the **age** and **gender** of the passenger as we know that *women* and *children* were given priority during the evacuation.\n",
    "\n",
    "Once the model has been built, we can run a fun experiment by checking whether my family and I would survive this incident if we decided to time-travel to 1912 and board this ship."
   ]
  },
  {
   "cell_type": "markdown",
   "metadata": {},
   "source": [
    "## Data Analysis\n",
    "\n",
    "The total dataset at the time of my experiment contains the details of 1309 passengers. This data has been split into 2 sets of *training set* and *test set*.<br>\n",
    "The training set contains the details of 891 passengers and this is the data that we will use to build our machine learning model.<br>\n",
    "The test set will then be used to check the accuracy of the model.<br>\n",
    "Now let us look at the *Independent Variables (IVs)* and the *Dependant Variable (DV)* of the dataset."
   ]
  },
  {
   "cell_type": "markdown",
   "metadata": {},
   "source": [
    "### Independent Variables (Parameters that will determine the fate of the passengers)\n",
    "\n",
    "- *Pclass* - Ticket class (1 = 1st class; 2 = 2nd class; 3 = 3rd class)\n",
    "- *Sex* - Sex of the passenger\n",
    "- *Age* - Age of the passenger\n",
    "- *SibSp* - Number of siblings/spouses aboard the ship\n",
    "- *Parch* - Number of parents/children aboard the ship\n",
    "- *Fare* - Ticket price\n",
    "- *Embarked* - The port from which they boarded (C = Cherbourg; Q = Queenstown; S = Southampton)\n",
    "\n",
    "**NOTE**: *Ticket* and *Cabin* are not included as they are irrelevant or have insufficient information.\n",
    "\n",
    "### Dependent Variable (Whether passenger survived or not)\n",
    "\n",
    "- *Survived* - Passenger survival (0 = No/Dead; 1 = Yes/Alive)"
   ]
  },
  {
   "cell_type": "code",
   "execution_count": 1,
   "metadata": {},
   "outputs": [
    {
     "data": {
      "text/html": [
       "<div>\n",
       "<style scoped>\n",
       "    .dataframe tbody tr th:only-of-type {\n",
       "        vertical-align: middle;\n",
       "    }\n",
       "\n",
       "    .dataframe tbody tr th {\n",
       "        vertical-align: top;\n",
       "    }\n",
       "\n",
       "    .dataframe thead th {\n",
       "        text-align: right;\n",
       "    }\n",
       "</style>\n",
       "<table border=\"1\" class=\"dataframe\">\n",
       "  <thead>\n",
       "    <tr style=\"text-align: right;\">\n",
       "      <th></th>\n",
       "      <th>Survived</th>\n",
       "      <th>Pclass</th>\n",
       "      <th>Name</th>\n",
       "      <th>Sex</th>\n",
       "      <th>Age</th>\n",
       "      <th>SibSp</th>\n",
       "      <th>Parch</th>\n",
       "      <th>Fare</th>\n",
       "      <th>Embarked</th>\n",
       "    </tr>\n",
       "    <tr>\n",
       "      <th>PassengerId</th>\n",
       "      <th></th>\n",
       "      <th></th>\n",
       "      <th></th>\n",
       "      <th></th>\n",
       "      <th></th>\n",
       "      <th></th>\n",
       "      <th></th>\n",
       "      <th></th>\n",
       "      <th></th>\n",
       "    </tr>\n",
       "  </thead>\n",
       "  <tbody>\n",
       "    <tr>\n",
       "      <th>1</th>\n",
       "      <td>0</td>\n",
       "      <td>3</td>\n",
       "      <td>Braund, Mr. Owen Harris</td>\n",
       "      <td>male</td>\n",
       "      <td>22.0</td>\n",
       "      <td>1</td>\n",
       "      <td>0</td>\n",
       "      <td>7.2500</td>\n",
       "      <td>S</td>\n",
       "    </tr>\n",
       "    <tr>\n",
       "      <th>2</th>\n",
       "      <td>1</td>\n",
       "      <td>1</td>\n",
       "      <td>Cumings, Mrs. John Bradley (Florence Briggs Th...</td>\n",
       "      <td>female</td>\n",
       "      <td>38.0</td>\n",
       "      <td>1</td>\n",
       "      <td>0</td>\n",
       "      <td>71.2833</td>\n",
       "      <td>C</td>\n",
       "    </tr>\n",
       "    <tr>\n",
       "      <th>3</th>\n",
       "      <td>1</td>\n",
       "      <td>3</td>\n",
       "      <td>Heikkinen, Miss. Laina</td>\n",
       "      <td>female</td>\n",
       "      <td>26.0</td>\n",
       "      <td>0</td>\n",
       "      <td>0</td>\n",
       "      <td>7.9250</td>\n",
       "      <td>S</td>\n",
       "    </tr>\n",
       "    <tr>\n",
       "      <th>4</th>\n",
       "      <td>1</td>\n",
       "      <td>1</td>\n",
       "      <td>Futrelle, Mrs. Jacques Heath (Lily May Peel)</td>\n",
       "      <td>female</td>\n",
       "      <td>35.0</td>\n",
       "      <td>1</td>\n",
       "      <td>0</td>\n",
       "      <td>53.1000</td>\n",
       "      <td>S</td>\n",
       "    </tr>\n",
       "    <tr>\n",
       "      <th>5</th>\n",
       "      <td>0</td>\n",
       "      <td>3</td>\n",
       "      <td>Allen, Mr. William Henry</td>\n",
       "      <td>male</td>\n",
       "      <td>35.0</td>\n",
       "      <td>0</td>\n",
       "      <td>0</td>\n",
       "      <td>8.0500</td>\n",
       "      <td>S</td>\n",
       "    </tr>\n",
       "  </tbody>\n",
       "</table>\n",
       "</div>"
      ],
      "text/plain": [
       "             Survived  Pclass  \\\n",
       "PassengerId                     \n",
       "1                   0       3   \n",
       "2                   1       1   \n",
       "3                   1       3   \n",
       "4                   1       1   \n",
       "5                   0       3   \n",
       "\n",
       "                                                          Name     Sex   Age  \\\n",
       "PassengerId                                                                    \n",
       "1                                      Braund, Mr. Owen Harris    male  22.0   \n",
       "2            Cumings, Mrs. John Bradley (Florence Briggs Th...  female  38.0   \n",
       "3                                       Heikkinen, Miss. Laina  female  26.0   \n",
       "4                 Futrelle, Mrs. Jacques Heath (Lily May Peel)  female  35.0   \n",
       "5                                     Allen, Mr. William Henry    male  35.0   \n",
       "\n",
       "             SibSp  Parch     Fare Embarked  \n",
       "PassengerId                                  \n",
       "1                1      0   7.2500        S  \n",
       "2                1      0  71.2833        C  \n",
       "3                0      0   7.9250        S  \n",
       "4                1      0  53.1000        S  \n",
       "5                0      0   8.0500        S  "
      ]
     },
     "execution_count": 1,
     "metadata": {},
     "output_type": "execute_result"
    }
   ],
   "source": [
    "# Importing Libraries\n",
    "import pandas as pd\n",
    "import matplotlib.pyplot as plt\n",
    "import numpy as np\n",
    "\n",
    "# Dropping Cabin and Ticket columns due to irrelevant and insufficient information\n",
    "training_set = pd.read_csv('train.csv').drop(['Cabin','Ticket'], axis=1)\n",
    "training_set = training_set.set_index('PassengerId')\n",
    "\n",
    "training_set.head()"
   ]
  },
  {
   "cell_type": "markdown",
   "metadata": {},
   "source": [
    "## Insights from data\n",
    "\n",
    "The first thing we notice from our data is that a few of the IVs have missing data. Precisely, the *Age* and the *Embarked* features."
   ]
  },
  {
   "cell_type": "code",
   "execution_count": 2,
   "metadata": {
    "scrolled": true
   },
   "outputs": [
    {
     "data": {
      "text/plain": [
       "Survived      0\n",
       "Pclass        0\n",
       "Name          0\n",
       "Sex           0\n",
       "Age         177\n",
       "SibSp         0\n",
       "Parch         0\n",
       "Fare          0\n",
       "Embarked      2\n",
       "dtype: int64"
      ]
     },
     "execution_count": 2,
     "metadata": {},
     "output_type": "execute_result"
    }
   ],
   "source": [
    "training_set.isnull().sum(axis=0) # to check for number of nan in fields"
   ]
  },
  {
   "cell_type": "markdown",
   "metadata": {},
   "source": [
    "The *Embarked* section can be easily filled with the *most frequent* occurance of the values, i.e., assume that the 2 passengers with missing *Embarked* data have also boarded from the most common port.\n",
    "\n",
    "The *Age* requires a little more insight before choosing a method to fill up the missing data."
   ]
  },
  {
   "cell_type": "markdown",
   "metadata": {},
   "source": [
    "### Printing the age distribution in the training data\n",
    "\n",
    "To fill up the *Age* feature with minimum deviation, we need to observe the data to find any patterns that we can utilize to fill the missing values."
   ]
  },
  {
   "cell_type": "code",
   "execution_count": 3,
   "metadata": {},
   "outputs": [
    {
     "data": {
      "image/png": "[encoded data removed]",
      "text/plain": [
       "<Figure size 864x432 with 1 Axes>"
      ]
     },
     "metadata": {
      "needs_background": "light"
     },
     "output_type": "display_data"
    }
   ],
   "source": [
    "# Filling up the Embarked feature\n",
    "training_set.Embarked.fillna(training_set[\"Embarked\"].value_counts().idxmax(), inplace=True)\n",
    "\n",
    "# Splitting the training set to 2 sets: one which has the age filled in, and one where the age is unknown\n",
    "training_set_with_age = training_set[pd.notnull(training_set[\"Age\"])]\n",
    "\n",
    "plt.figure(figsize=(12,6))\n",
    "training_set_with_age.Age.hist(bins=16, color=(70/255,80/255,215/255))\n",
    "plt.title(\"Passenger Distribution by Age\")\n",
    "plt.xlabel(\"Age\")\n",
    "plt.ylabel(\"Number of passengers\")\n",
    "plt.show()"
   ]
  },
  {
   "cell_type": "markdown",
   "metadata": {},
   "source": [
    "We can use **numpy** library's *random.choice()* function to generate the values for the rest of the passengers who do not have their age listed.\n",
    "\n",
    "Thus, the histogram listed as **New** shows the new *training set* with the newly filled age values. Overlapped with it is the **Old** training set which did not have all the ages filled in. Since the data spread looks good, we can now move on with the rest of the observations with respect to the given dataset."
   ]
  },
  {
   "cell_type": "code",
   "execution_count": 4,
   "metadata": {},
   "outputs": [
    {
     "data": {
      "image/png": "[encoded data removed]",
      "text/plain": [
       "<Figure size 864x432 with 1 Axes>"
      ]
     },
     "metadata": {
      "needs_background": "light"
     },
     "output_type": "display_data"
    }
   ],
   "source": [
    "training_set.Age = training_set.Age.apply(lambda x: \n",
    "                                np.random.choice(training_set.Age.dropna().values)\n",
    "                                if np.isnan(x) \n",
    "                                else x)\n",
    "\n",
    "plt.figure(figsize=(12,6))\n",
    "training_set.Age.hist(bins=16, color=(118/255,127/255,255/255))\n",
    "training_set_with_age.Age.hist(bins=16, color=(70/255,80/255,215/255))\n",
    "plt.legend(['New', 'Old'])\n",
    "plt.title(\"Passenger Distribution by Age\")\n",
    "plt.xlabel(\"Age\")\n",
    "plt.ylabel(\"Number of passengers\")\n",
    "plt.show()"
   ]
  },
  {
   "cell_type": "markdown",
   "metadata": {},
   "source": [
    "### Number of deaths\n",
    "\n",
    "We can see that more people died than survived in this incident. Survival rate was at around ***38.38%*** based on the given dataset."
   ]
  },
  {
   "cell_type": "code",
   "execution_count": 5,
   "metadata": {},
   "outputs": [
    {
     "data": {
      "image/png": "[encoded data removed]",
      "text/plain": [
       "<Figure size 360x432 with 1 Axes>"
      ]
     },
     "metadata": {
      "needs_background": "light"
     },
     "output_type": "display_data"
    }
   ],
   "source": [
    "plt.figure(figsize=(5,6))\n",
    "plt.bar(training_set['Survived'].value_counts().index, training_set['Survived'].value_counts(), \n",
    "        color=(118/255,127/255,255/255))\n",
    "plt.title('Survivability')\n",
    "plt.ylabel('Number of passengers')\n",
    "plt.xticks([0,1], ['Dead','Alive'])\n",
    "plt.show()"
   ]
  },
  {
   "cell_type": "markdown",
   "metadata": {},
   "source": [
    "### Deaths based on Age\n",
    "\n",
    "From the plot, we can deduce that survival rate is lower for age groups of *11 or higher* with it stabilizing at around 40% from age 20 onwards.\n",
    "\n",
    "The age groups of *10 or lower* had low death rates which reinforces the fact that children were given priority during evacuation. "
   ]
  },
  {
   "cell_type": "code",
   "execution_count": 6,
   "metadata": {},
   "outputs": [
    {
     "data": {
      "image/png": "[encoded data removed]",
      "text/plain": [
       "<Figure size 1224x432 with 1 Axes>"
      ]
     },
     "metadata": {
      "needs_background": "light"
     },
     "output_type": "display_data"
    }
   ],
   "source": [
    "# Rounding the values to change all the ages to integers\n",
    "rounded_age = training_set.round(0)\n",
    "deaths = rounded_age[rounded_age.Survived == 0]\n",
    "\n",
    "plt.figure(figsize=(17,6))\n",
    "plt.bar(rounded_age['Age'].value_counts().index, rounded_age['Age'].value_counts(), color=(118/255,127/255,255/255))\n",
    "plt.bar(deaths['Age'].value_counts().index, deaths['Age'].value_counts(), color=(70/255,80/255,215/255))\n",
    "plt.legend(['Total', 'Deaths'])\n",
    "plt.title('Survival Per Age')\n",
    "plt.xlabel('Age')\n",
    "plt.ylabel('Number of passengers')\n",
    "plt.grid(True)\n",
    "plt.show()"
   ]
  },
  {
   "cell_type": "code",
   "execution_count": 7,
   "metadata": {},
   "outputs": [
    {
     "data": {
      "image/png": "[encoded data removed]",
      "text/plain": [
       "<Figure size 1224x432 with 1 Axes>"
      ]
     },
     "metadata": {
      "needs_background": "light"
     },
     "output_type": "display_data"
    }
   ],
   "source": [
    "age = tuple(range(int(rounded_age.Age.min()),int(rounded_age.Age.max())))\n",
    "cp = []\n",
    "\n",
    "for i in age:\n",
    "    cp.append((1 - (len(deaths[deaths.Age <= i].index)/len(rounded_age[rounded_age.Age <= i].index)))*100)\n",
    "    \n",
    "plt.figure(figsize=(17,6))\n",
    "plt.plot(age,cp)\n",
    "plt.plot(age[10], cp[10], 'rX')\n",
    "plt.title('Survival Percentage with respect to Age range (Lower or Equal to x)')\n",
    "plt.xlabel('Age (x)')\n",
    "plt.ylabel('Survival Percentage')\n",
    "\n",
    "plt.ylim([30,100])\n",
    "plt.grid(True)\n",
    "plt.show()"
   ]
  },
  {
   "cell_type": "markdown",
   "metadata": {},
   "source": [
    "### Deaths based on Sex\n",
    "\n",
    "From the plot, we can see that the survival rate for women was much higher than that of men. Women had a survival rate of around 70% whereas men had a survival rate of around 18%."
   ]
  },
  {
   "cell_type": "code",
   "execution_count": 8,
   "metadata": {},
   "outputs": [
    {
     "data": {
      "image/png": "[encoded data removed]",
      "text/plain": [
       "<Figure size 360x432 with 1 Axes>"
      ]
     },
     "metadata": {
      "needs_background": "light"
     },
     "output_type": "display_data"
    }
   ],
   "source": [
    "plt.figure(figsize=(5,6))\n",
    "plt.bar(training_set['Sex'].value_counts().index, training_set['Sex'].value_counts(), color=(118/255,127/255,255/255))\n",
    "plt.bar(deaths['Sex'].value_counts().index, deaths['Sex'].value_counts(), color=(70/255,80/255,215/255))\n",
    "plt.legend(['Total', 'Deaths'])\n",
    "plt.title('Survival Per Sex')\n",
    "plt.ylabel('Number of passengers')\n",
    "plt.xticks([0,1],['Male','Female'])\n",
    "plt.grid(True)\n",
    "plt.show()"
   ]
  },
  {
   "cell_type": "markdown",
   "metadata": {},
   "source": [
    "### Deaths based on Passenger Class\n",
    "\n",
    "From the plot, we can observe that the rich classes had less casualties as opposed to *3rd class* which had the *lowest* survival rate of *23%*. The *first class* had a survival rate of *61%* and the *second class* had a survival rate of *47%*."
   ]
  },
  {
   "cell_type": "code",
   "execution_count": 9,
   "metadata": {},
   "outputs": [
    {
     "data": {
      "image/png": "[encoded data removed]",
      "text/plain": [
       "<Figure size 576x432 with 1 Axes>"
      ]
     },
     "metadata": {
      "needs_background": "light"
     },
     "output_type": "display_data"
    }
   ],
   "source": [
    "plt.figure(figsize=(8,6))\n",
    "plt.bar(training_set['Pclass'].value_counts().index, training_set['Pclass'].value_counts(), \n",
    "        color=(118/255,127/255,255/255))\n",
    "plt.bar(deaths['Pclass'].value_counts().index, deaths['Pclass'].value_counts(), color=(70/255,80/255,215/255))\n",
    "plt.legend(['Total', 'Deaths'])\n",
    "plt.title('Survival Per Class')\n",
    "plt.xlabel('Classes')\n",
    "plt.ylabel('Number of passengers')\n",
    "plt.xticks([1,2,3])\n",
    "plt.grid(True)\n",
    "plt.show()"
   ]
  },
  {
   "cell_type": "markdown",
   "metadata": {},
   "source": [
    "### List of Important Features\n",
    "\n",
    "From the plot, we can see that the 3 most important features are **Age**, **Sex** and **Fare**, where *Age* is the most important feature."
   ]
  },
  {
   "cell_type": "code",
   "execution_count": 10,
   "metadata": {
    "scrolled": false
   },
   "outputs": [
    {
     "data": {
      "image/png": "[encoded data removed]",
      "text/plain": [
       "<Figure size 1224x432 with 1 Axes>"
      ]
     },
     "metadata": {
      "needs_background": "light"
     },
     "output_type": "display_data"
    }
   ],
   "source": [
    "X = training_set.iloc[:,[1,3,4,5,6,7,8]].values # Omit Survived and Age\n",
    "Y = training_set.iloc[:,0].values # Age\n",
    "\n",
    "# Encoding for the Gender Column\n",
    "from sklearn.preprocessing import LabelEncoder\n",
    "le = LabelEncoder()\n",
    "X[:,1] = le.fit_transform(X[:,1])\n",
    "\n",
    "# Encoding X categorical data + HotEncoding\n",
    "from sklearn.preprocessing import  OneHotEncoder\n",
    "from sklearn.compose import ColumnTransformer\n",
    "\n",
    "ct = ColumnTransformer([('encoder', OneHotEncoder(), [-1])], remainder='passthrough')\n",
    "X = np.array(ct.fit_transform(X), dtype=np.float)\n",
    "\n",
    "# Fitting RFC to the dataset\n",
    "from sklearn.ensemble import RandomForestClassifier\n",
    "classifier = RandomForestClassifier(n_estimators=100)\n",
    "classifier.fit(X, Y)\n",
    "plt.figure(figsize=(17,6))\n",
    "plt.bar(range(len(classifier.feature_importances_)), classifier.feature_importances_, color=(118/255,127/255,255/255))\n",
    "plt.title('Feature Importance Scale')\n",
    "plt.xticks(np.arange(9),['Embarked_C','Embarked_Q','Embarked_S','Pclass','Sex','Age','SibSp','Parch','Fare'])\n",
    "plt.xlabel('Features')\n",
    "plt.ylabel('Level of importance')\n",
    "plt.show()"
   ]
  },
  {
   "cell_type": "markdown",
   "metadata": {},
   "source": [
    "## Training the Classification Model\n",
    "\n",
    "Now that we have all the required insights, we can finally perform the most important step, i.e., building the best classification model. \n",
    "\n",
    "### List of models to be compared\n",
    "\n",
    "- Logistic Regression\n",
    "- K-Nearest Neighbors\n",
    "- Kernel SVM\n",
    "- Naive Bayes\n",
    "- Random Forest Classification\n",
    "- XGBoost\n",
    "\n",
    "**Note:** All values have been optimised using Grid Search. Therefore, the best hyperparameters have been used to find the result."
   ]
  },
  {
   "cell_type": "markdown",
   "metadata": {},
   "source": [
    "## Final Results\n",
    "\n",
    "The chosen model is the ***Kernel SVM*** as it the best performance of all the listed models. Its accuracy is the highest at ***82.5%***.\n",
    "\n",
    "With the **Kaggle Test set**, it achieved the highest accuracy of **78.468%**."
   ]
  },
  {
   "cell_type": "markdown",
   "metadata": {},
   "source": [
    "# On board RMS Titanic with Family: A once-in-a-lifetime experience\n",
    "\n",
    "Now that the model is ready, let us have a bit of fun by taking my family aboard the infamous Titanic and see whether all of us come out of this ordeal relatively unscathed. *Fingers crossed*"
   ]
  },
  {
   "cell_type": "markdown",
   "metadata": {},
   "source": [
    "## Family Input\n",
    "\n",
    "Since, the **Name** feature does not matter, I used generic names to describe my family members. Following is the input for the model.\n",
    "\n",
    "Since the average *Fare* of the training set was roughly $32, I chose the same for us as well. I also managed to bump us up to the *2nd class* (Pclass = 2) because comfort is a must in a cruise."
   ]
  },
  {
   "cell_type": "code",
   "execution_count": 11,
   "metadata": {},
   "outputs": [
    {
     "data": {
      "text/html": [
       "<div>\n",
       "<style scoped>\n",
       "    .dataframe tbody tr th:only-of-type {\n",
       "        vertical-align: middle;\n",
       "    }\n",
       "\n",
       "    .dataframe tbody tr th {\n",
       "        vertical-align: top;\n",
       "    }\n",
       "\n",
       "    .dataframe thead th {\n",
       "        text-align: right;\n",
       "    }\n",
       "</style>\n",
       "<table border=\"1\" class=\"dataframe\">\n",
       "  <thead>\n",
       "    <tr style=\"text-align: right;\">\n",
       "      <th></th>\n",
       "      <th>Pclass</th>\n",
       "      <th>Name</th>\n",
       "      <th>Sex</th>\n",
       "      <th>Age</th>\n",
       "      <th>SibSp</th>\n",
       "      <th>Parch</th>\n",
       "      <th>Fare</th>\n",
       "      <th>Embarked</th>\n",
       "    </tr>\n",
       "    <tr>\n",
       "      <th>PassengerId</th>\n",
       "      <th></th>\n",
       "      <th></th>\n",
       "      <th></th>\n",
       "      <th></th>\n",
       "      <th></th>\n",
       "      <th></th>\n",
       "      <th></th>\n",
       "      <th></th>\n",
       "    </tr>\n",
       "  </thead>\n",
       "  <tbody>\n",
       "    <tr>\n",
       "      <th>1</th>\n",
       "      <td>2</td>\n",
       "      <td>Gaurav Roy</td>\n",
       "      <td>male</td>\n",
       "      <td>24</td>\n",
       "      <td>1</td>\n",
       "      <td>1</td>\n",
       "      <td>32</td>\n",
       "      <td>Q</td>\n",
       "    </tr>\n",
       "    <tr>\n",
       "      <th>2</th>\n",
       "      <td>2</td>\n",
       "      <td>Mother M</td>\n",
       "      <td>female</td>\n",
       "      <td>49</td>\n",
       "      <td>0</td>\n",
       "      <td>1</td>\n",
       "      <td>32</td>\n",
       "      <td>Q</td>\n",
       "    </tr>\n",
       "    <tr>\n",
       "      <th>3</th>\n",
       "      <td>2</td>\n",
       "      <td>Uncle S</td>\n",
       "      <td>male</td>\n",
       "      <td>51</td>\n",
       "      <td>0</td>\n",
       "      <td>1</td>\n",
       "      <td>32</td>\n",
       "      <td>Q</td>\n",
       "    </tr>\n",
       "    <tr>\n",
       "      <th>4</th>\n",
       "      <td>2</td>\n",
       "      <td>Grandma K</td>\n",
       "      <td>female</td>\n",
       "      <td>73</td>\n",
       "      <td>0</td>\n",
       "      <td>1</td>\n",
       "      <td>32</td>\n",
       "      <td>Q</td>\n",
       "    </tr>\n",
       "    <tr>\n",
       "      <th>5</th>\n",
       "      <td>2</td>\n",
       "      <td>Ms. M</td>\n",
       "      <td>female</td>\n",
       "      <td>24</td>\n",
       "      <td>1</td>\n",
       "      <td>0</td>\n",
       "      <td>32</td>\n",
       "      <td>Q</td>\n",
       "    </tr>\n",
       "  </tbody>\n",
       "</table>\n",
       "</div>"
      ],
      "text/plain": [
       "             Pclass        Name     Sex  Age  SibSp  Parch  Fare Embarked\n",
       "PassengerId                                                              \n",
       "1                 2  Gaurav Roy    male   24      1      1    32        Q\n",
       "2                 2    Mother M  female   49      0      1    32        Q\n",
       "3                 2     Uncle S    male   51      0      1    32        Q\n",
       "4                 2   Grandma K  female   73      0      1    32        Q\n",
       "5                 2       Ms. M  female   24      1      0    32        Q"
      ]
     },
     "execution_count": 11,
     "metadata": {},
     "output_type": "execute_result"
    }
   ],
   "source": [
    "fam = {'PassengerId':[1, 2, 3, 4, 5],\n",
    "#    'Pclass':[1, 1, 1, 1, 1],\n",
    "     'Pclass':[2, 2, 2, 2, 2],\n",
    "#     'Pclass':[3, 3, 3, 3, 3],\n",
    "     'Name':['Gaurav Roy', 'Mother M', 'Uncle S', 'Grandma K', 'Ms. M'],\n",
    "     'Sex':['male', 'female', 'male', 'female', 'female'],\n",
    "     'Age':[24, 49, 51, 73, 24],\n",
    "     'SibSp':[1, 0, 0, 0, 1],\n",
    "     'Parch':[1, 1, 1, 1, 0],\n",
    "     'Fare':[32, 32, 32, 32, 32],\n",
    "     'Embarked':['Q', 'Q', 'Q', 'Q', 'Q']}\n",
    "\n",
    "fam = pd.DataFrame(data=fam)\n",
    "fam = fam.set_index('PassengerId')\n",
    "fam.head()"
   ]
  },
  {
   "cell_type": "markdown",
   "metadata": {},
   "source": [
    "## Final Outcome\n",
    "\n",
    "We tune this input data by encoding the categorical variables and feature scaling them for out Kernel SVM classifier."
   ]
  },
  {
   "cell_type": "code",
   "execution_count": 12,
   "metadata": {},
   "outputs": [
    {
     "data": {
      "text/plain": [
       "SVC(C=1, cache_size=200, class_weight=None, coef0=0.0,\n",
       "    decision_function_shape='ovr', degree=3, gamma=0.1, kernel='rbf',\n",
       "    max_iter=-1, probability=False, random_state=None, shrinking=True,\n",
       "    tol=0.001, verbose=False)"
      ]
     },
     "execution_count": 12,
     "metadata": {},
     "output_type": "execute_result"
    }
   ],
   "source": [
    "# Fetching the features from dataframe\n",
    "X_train = training_set.iloc[:,[1,3,4,5,6,7,8]].values # Omit Survived\n",
    "Y_train = training_set.iloc[:,0].values # Survived\n",
    "fam_test = fam.iloc[:,[0,2,3,4,5,6,7]].values\n",
    "\n",
    "# Encoding for the Gender Column\n",
    "le = LabelEncoder()\n",
    "X_train[:,1] = le.fit_transform(X_train[:,1])\n",
    "fam_test[:,1] = le.transform(fam_test[:,1])\n",
    "\n",
    "# Encoding X categorical data + HotEncoding\n",
    "ct = ColumnTransformer([('encoder', OneHotEncoder(), [-1])], remainder='passthrough')\n",
    "X_train = np.array(ct.fit_transform(X_train), dtype=np.float)\n",
    "fam_test = np.array(ct.transform(fam_test), dtype=np.float)\n",
    "\n",
    "# Avoiding Dummy Variable Trap\n",
    "X_train = X_train[:,1:]\n",
    "fam_test = fam_test[:,1:]\n",
    "\n",
    "# Feature Scaling\n",
    "from sklearn.preprocessing import StandardScaler\n",
    "sc_X = StandardScaler()\n",
    "X_train = sc_X.fit_transform(X_train)\n",
    "fam_test = sc_X.transform(fam_test)\n",
    "\n",
    "# Fitting Kernel SVM Classifier to Training Set\n",
    "from sklearn.svm import SVC\n",
    "classifier = SVC(kernel='rbf', gamma=0.1, C=1)\n",
    "classifier.fit(X_train, Y_train)"
   ]
  },
  {
   "cell_type": "markdown",
   "metadata": {},
   "source": [
    "Now that the classifier model is ready, we find out if we all survived or not."
   ]
  },
  {
   "cell_type": "code",
   "execution_count": 13,
   "metadata": {},
   "outputs": [
    {
     "data": {
      "text/html": [
       "<div>\n",
       "<style scoped>\n",
       "    .dataframe tbody tr th:only-of-type {\n",
       "        vertical-align: middle;\n",
       "    }\n",
       "\n",
       "    .dataframe tbody tr th {\n",
       "        vertical-align: top;\n",
       "    }\n",
       "\n",
       "    .dataframe thead th {\n",
       "        text-align: right;\n",
       "    }\n",
       "</style>\n",
       "<table border=\"1\" class=\"dataframe\">\n",
       "  <thead>\n",
       "    <tr style=\"text-align: right;\">\n",
       "      <th></th>\n",
       "      <th>Name</th>\n",
       "      <th>Survived</th>\n",
       "    </tr>\n",
       "    <tr>\n",
       "      <th>PassengerId</th>\n",
       "      <th></th>\n",
       "      <th></th>\n",
       "    </tr>\n",
       "  </thead>\n",
       "  <tbody>\n",
       "    <tr>\n",
       "      <th>1</th>\n",
       "      <td>Gaurav Roy</td>\n",
       "      <td>Dead</td>\n",
       "    </tr>\n",
       "    <tr>\n",
       "      <th>2</th>\n",
       "      <td>Mother M</td>\n",
       "      <td>Alive</td>\n",
       "    </tr>\n",
       "    <tr>\n",
       "      <th>3</th>\n",
       "      <td>Uncle S</td>\n",
       "      <td>Dead</td>\n",
       "    </tr>\n",
       "    <tr>\n",
       "      <th>4</th>\n",
       "      <td>Grandma K</td>\n",
       "      <td>Alive</td>\n",
       "    </tr>\n",
       "    <tr>\n",
       "      <th>5</th>\n",
       "      <td>Ms. M</td>\n",
       "      <td>Alive</td>\n",
       "    </tr>\n",
       "  </tbody>\n",
       "</table>\n",
       "</div>"
      ],
      "text/plain": [
       "                   Name Survived\n",
       "PassengerId                     \n",
       "1            Gaurav Roy     Dead\n",
       "2              Mother M    Alive\n",
       "3               Uncle S     Dead\n",
       "4             Grandma K    Alive\n",
       "5                 Ms. M    Alive"
      ]
     },
     "execution_count": 13,
     "metadata": {},
     "output_type": "execute_result"
    }
   ],
   "source": [
    "# Predicting the Test Set Results\n",
    "outcome = classifier.predict(fam_test)\n",
    "\n",
    "fam['Survived'] = outcome\n",
    "fam.Survived = fam.Survived.map({0:'Dead',1:'Alive'})\n",
    "fam.iloc[:,[1,-1]]"
   ]
  },
  {
   "attachments": {},
   "cell_type": "markdown",
   "metadata": {},
   "source": [
    "Looks like Mom and M made it out alive, but the rest of us did not. Well, I guess it be like that sometimes.... Oh well.\n"
   ]
  }
 ],
 "metadata": {
  "kernelspec": {
   "display_name": "Python 3",
   "language": "python",
   "name": "python3"
  },
  "language_info": {
   "codemirror_mode": {
    "name": "ipython",
    "version": 3
   },
   "file_extension": ".py",
   "mimetype": "text/x-python",
   "name": "python",
   "nbconvert_exporter": "python",
   "pygments_lexer": "ipython3",
   "version": "3.7.3"
  }
 },
 "nbformat": 4,
 "nbformat_minor": 2
}
